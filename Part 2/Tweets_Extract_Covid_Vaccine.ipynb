{
 "cells": [
  {
   "cell_type": "code",
   "execution_count": 1,
   "metadata": {},
   "outputs": [],
   "source": [
    "import pandas as pd\n",
    "import snscrape.modules.twitter as sntwitter\n",
    "import itertools"
   ]
  },
  {
   "cell_type": "markdown",
   "metadata": {},
   "source": [
    "### Extracting Tweets for the search keyword Pfizer between January 01 2020 to June 30 2020"
   ]
  },
  {
   "cell_type": "code",
   "execution_count": 44,
   "metadata": {},
   "outputs": [],
   "source": [
    "df_pf1 = pd.DataFrame(itertools.islice(sntwitter.TwitterSearchScraper(\n",
    "    'pfizer Pfizer vaccine lang:en since:2020-01-01 until:2020-01-31').get_items(), 1000))[['date', 'content','user']]\n",
    "df_pf2 = pd.DataFrame(itertools.islice(sntwitter.TwitterSearchScraper(\n",
    "    'pfizer Pfizer vaccine lang:en since:2020-02-01 until:2020-02-28').get_items(), 1000))[['date', 'content','user']]\n",
    "df_pf3 = pd.DataFrame(itertools.islice(sntwitter.TwitterSearchScraper(\n",
    "    'pfizer Pfizer vaccine lang:en since:2020-03-01 until:2020-03-31').get_items(), 1000))[['date', 'content','user']]\n",
    "df_pf4 = pd.DataFrame(itertools.islice(sntwitter.TwitterSearchScraper(\n",
    "    'pfizer Pfizer vaccine lang:en since:2020-04-01 until:2020-04-30').get_items(), 1000))[['date', 'content','user']]\n",
    "df_pf5 = pd.DataFrame(itertools.islice(sntwitter.TwitterSearchScraper(\n",
    "    'pfizer Pfizer vaccine lang:en since:2020-05-01 until:2020-05-31').get_items(), 1000))[['date', 'content','user']]\n",
    "df_pf6 = pd.DataFrame(itertools.islice(sntwitter.TwitterSearchScraper(\n",
    "    'pfizer Pfizer vaccine lang:en since:2020-06-01 until:2020-06-30').get_items(), 1000))[['date', 'content','user']]"
   ]
  },
  {
   "cell_type": "code",
   "execution_count": 45,
   "metadata": {
    "scrolled": true
   },
   "outputs": [
    {
     "name": "stderr",
     "output_type": "stream",
     "text": [
      "<ipython-input-45-c35337c2d609>:1: FutureWarning: The frame.append method is deprecated and will be removed from pandas in a future version. Use pandas.concat instead.\n",
      "  df_pf = df_pf1.append([df_pf2,df_pf3,df_pf4,df_pf5,df_pf6],ignore_index=True)\n"
     ]
    }
   ],
   "source": [
    "df_pf = df_pf1.append([df_pf2,df_pf3,df_pf4,df_pf5,df_pf6],ignore_index=True)"
   ]
  },
  {
   "cell_type": "code",
   "execution_count": 49,
   "metadata": {},
   "outputs": [
    {
     "data": {
      "text/html": [
       "<div>\n",
       "<style scoped>\n",
       "    .dataframe tbody tr th:only-of-type {\n",
       "        vertical-align: middle;\n",
       "    }\n",
       "\n",
       "    .dataframe tbody tr th {\n",
       "        vertical-align: top;\n",
       "    }\n",
       "\n",
       "    .dataframe thead th {\n",
       "        text-align: right;\n",
       "    }\n",
       "</style>\n",
       "<table border=\"1\" class=\"dataframe\">\n",
       "  <thead>\n",
       "    <tr style=\"text-align: right;\">\n",
       "      <th></th>\n",
       "      <th>date</th>\n",
       "      <th>content</th>\n",
       "      <th>user</th>\n",
       "    </tr>\n",
       "  </thead>\n",
       "  <tbody>\n",
       "    <tr>\n",
       "      <th>0</th>\n",
       "      <td>2020-01-30 23:17:54+00:00</td>\n",
       "      <td>Certain #diseases can be serious for #pregnant...</td>\n",
       "      <td>{'username': 'pfizer', 'id': 56488059, 'displa...</td>\n",
       "    </tr>\n",
       "    <tr>\n",
       "      <th>1</th>\n",
       "      <td>2020-01-30 20:44:05+00:00</td>\n",
       "      <td>If one of the #pharma companies like @sanofi @...</td>\n",
       "      <td>{'username': 'abhissol', 'id': 27783499, 'disp...</td>\n",
       "    </tr>\n",
       "    <tr>\n",
       "      <th>2</th>\n",
       "      <td>2020-01-30 20:15:46+00:00</td>\n",
       "      <td>@pfizer Safe and effective is your go to phras...</td>\n",
       "      <td>{'username': 'KikiwahT', 'id': 317375275, 'dis...</td>\n",
       "    </tr>\n",
       "    <tr>\n",
       "      <th>3</th>\n",
       "      <td>2020-01-30 18:39:49+00:00</td>\n",
       "      <td>@WordswithSteph Whereas he happily betrayed al...</td>\n",
       "      <td>{'username': 'AlgorithmDancer', 'id': 21744241...</td>\n",
       "    </tr>\n",
       "    <tr>\n",
       "      <th>4</th>\n",
       "      <td>2020-01-30 17:35:31+00:00</td>\n",
       "      <td>For Russia \" Chorona Virus\" Medicines and Vacc...</td>\n",
       "      <td>{'username': 'shabnam_sing', 'id': 11937664666...</td>\n",
       "    </tr>\n",
       "    <tr>\n",
       "      <th>...</th>\n",
       "      <td>...</td>\n",
       "      <td>...</td>\n",
       "      <td>...</td>\n",
       "    </tr>\n",
       "    <tr>\n",
       "      <th>4229</th>\n",
       "      <td>2020-06-01 02:16:59+00:00</td>\n",
       "      <td>Pfizer Chief Calls Patent Pool ‘Nonsense’, Fea...</td>\n",
       "      <td>{'username': 'ScripIanHaydock', 'id': 91851544...</td>\n",
       "    </tr>\n",
       "    <tr>\n",
       "      <th>4230</th>\n",
       "      <td>2020-06-01 02:06:01+00:00</td>\n",
       "      <td>Pfizer CEO says COVID-19 vaccine likely to be ...</td>\n",
       "      <td>{'username': 'newsnation_24', 'id': 7524449335...</td>\n",
       "    </tr>\n",
       "    <tr>\n",
       "      <th>4231</th>\n",
       "      <td>2020-06-01 01:00:10+00:00</td>\n",
       "      <td>Frustrated ceo admits pfizer discovered corona...</td>\n",
       "      <td>{'username': 'boy_ebooks', 'id': 8370544390474...</td>\n",
       "    </tr>\n",
       "    <tr>\n",
       "      <th>4232</th>\n",
       "      <td>2020-06-01 00:39:44+00:00</td>\n",
       "      <td>Good #COVIDー19 news for May 31:\\n\\n- 🇸🇪 Sweden...</td>\n",
       "      <td>{'username': 'Steven_Lerner', 'id': 166856409,...</td>\n",
       "    </tr>\n",
       "    <tr>\n",
       "      <th>4233</th>\n",
       "      <td>2020-06-01 00:27:44+00:00</td>\n",
       "      <td>Coronavirus vaccine: Pfizer CEO claims COVID-1...</td>\n",
       "      <td>{'username': 'jktaekookkth', 'id': 83885619, '...</td>\n",
       "    </tr>\n",
       "  </tbody>\n",
       "</table>\n",
       "<p>4234 rows × 3 columns</p>\n",
       "</div>"
      ],
      "text/plain": [
       "                          date  \\\n",
       "0    2020-01-30 23:17:54+00:00   \n",
       "1    2020-01-30 20:44:05+00:00   \n",
       "2    2020-01-30 20:15:46+00:00   \n",
       "3    2020-01-30 18:39:49+00:00   \n",
       "4    2020-01-30 17:35:31+00:00   \n",
       "...                        ...   \n",
       "4229 2020-06-01 02:16:59+00:00   \n",
       "4230 2020-06-01 02:06:01+00:00   \n",
       "4231 2020-06-01 01:00:10+00:00   \n",
       "4232 2020-06-01 00:39:44+00:00   \n",
       "4233 2020-06-01 00:27:44+00:00   \n",
       "\n",
       "                                                content  \\\n",
       "0     Certain #diseases can be serious for #pregnant...   \n",
       "1     If one of the #pharma companies like @sanofi @...   \n",
       "2     @pfizer Safe and effective is your go to phras...   \n",
       "3     @WordswithSteph Whereas he happily betrayed al...   \n",
       "4     For Russia \" Chorona Virus\" Medicines and Vacc...   \n",
       "...                                                 ...   \n",
       "4229  Pfizer Chief Calls Patent Pool ‘Nonsense’, Fea...   \n",
       "4230  Pfizer CEO says COVID-19 vaccine likely to be ...   \n",
       "4231  Frustrated ceo admits pfizer discovered corona...   \n",
       "4232  Good #COVIDー19 news for May 31:\\n\\n- 🇸🇪 Sweden...   \n",
       "4233  Coronavirus vaccine: Pfizer CEO claims COVID-1...   \n",
       "\n",
       "                                                   user  \n",
       "0     {'username': 'pfizer', 'id': 56488059, 'displa...  \n",
       "1     {'username': 'abhissol', 'id': 27783499, 'disp...  \n",
       "2     {'username': 'KikiwahT', 'id': 317375275, 'dis...  \n",
       "3     {'username': 'AlgorithmDancer', 'id': 21744241...  \n",
       "4     {'username': 'shabnam_sing', 'id': 11937664666...  \n",
       "...                                                 ...  \n",
       "4229  {'username': 'ScripIanHaydock', 'id': 91851544...  \n",
       "4230  {'username': 'newsnation_24', 'id': 7524449335...  \n",
       "4231  {'username': 'boy_ebooks', 'id': 8370544390474...  \n",
       "4232  {'username': 'Steven_Lerner', 'id': 166856409,...  \n",
       "4233  {'username': 'jktaekookkth', 'id': 83885619, '...  \n",
       "\n",
       "[4234 rows x 3 columns]"
      ]
     },
     "execution_count": 49,
     "metadata": {},
     "output_type": "execute_result"
    }
   ],
   "source": [
    "df_pf"
   ]
  },
  {
   "cell_type": "code",
   "execution_count": 50,
   "metadata": {
    "scrolled": true
   },
   "outputs": [
    {
     "data": {
      "text/plain": [
       "'The University of Louisville’s Division of Infectious Diseases and Pfizer Inc. announced they are collaborating on epidemiological research Jan. 23. The research will be related to vaccine-preventable diseases affecting adults, including the elderly.\\n\\nhttps://t.co/rVvrmTWtCi'"
      ]
     },
     "execution_count": 50,
     "metadata": {},
     "output_type": "execute_result"
    }
   ],
   "source": [
    "df_pf['content'][5]"
   ]
  },
  {
   "cell_type": "code",
   "execution_count": 51,
   "metadata": {},
   "outputs": [],
   "source": [
    "df_pf.to_csv (r'tweets_pf.csv', index = False, header=True)"
   ]
  },
  {
   "cell_type": "markdown",
   "metadata": {},
   "source": [
    "### Extracting Tweets for the search keyword Moderna between January 01 2020 to June 30 2020"
   ]
  },
  {
   "cell_type": "code",
   "execution_count": 52,
   "metadata": {},
   "outputs": [],
   "source": [
    "df_mod1 = pd.DataFrame(itertools.islice(sntwitter.TwitterSearchScraper(\n",
    "    'moderna Moderna vaccine lang:en since:2020-01-01 until:2020-01-31').get_items(), 1000))[['date', 'content','user']]\n",
    "df_mod2 = pd.DataFrame(itertools.islice(sntwitter.TwitterSearchScraper(\n",
    "    'moderna Moderna vaccine lang:en since:2020-02-01 until:2020-02-28').get_items(), 1000))[['date', 'content','user']]\n",
    "df_mod3 = pd.DataFrame(itertools.islice(sntwitter.TwitterSearchScraper(\n",
    "    'moderna Moderna vaccine lang:en since:2020-03-01 until:2020-03-31').get_items(), 1000))[['date', 'content','user']]\n",
    "df_mod4 = pd.DataFrame(itertools.islice(sntwitter.TwitterSearchScraper(\n",
    "    'moderna Moderna vaccine lang:en since:2020-04-01 until:2020-04-30').get_items(), 1000))[['date', 'content','user']]\n",
    "df_mod5 = pd.DataFrame(itertools.islice(sntwitter.TwitterSearchScraper(\n",
    "    'moderna Moderna vaccine lang:en since:2020-05-01 until:2020-05-31').get_items(), 1000))[['date', 'content','user']]\n",
    "df_mod6 = pd.DataFrame(itertools.islice(sntwitter.TwitterSearchScraper(\n",
    "    'moderna Moderna vaccine lang:en since:2020-06-01 until:2020-06-30').get_items(), 1000))[['date', 'content','user']]"
   ]
  },
  {
   "cell_type": "code",
   "execution_count": 53,
   "metadata": {
    "scrolled": true
   },
   "outputs": [
    {
     "name": "stderr",
     "output_type": "stream",
     "text": [
      "<ipython-input-53-ca949f982d5e>:1: FutureWarning: The frame.append method is deprecated and will be removed from pandas in a future version. Use pandas.concat instead.\n",
      "  df_mod = df_mod1.append([df_mod2,df_mod3,df_mod4,df_mod5,df_mod6],ignore_index=True)\n"
     ]
    }
   ],
   "source": [
    "df_mod = df_mod1.append([df_mod2,df_mod3,df_mod4,df_mod5,df_mod6],ignore_index=True)"
   ]
  },
  {
   "cell_type": "code",
   "execution_count": 55,
   "metadata": {},
   "outputs": [
    {
     "data": {
      "text/html": [
       "<div>\n",
       "<style scoped>\n",
       "    .dataframe tbody tr th:only-of-type {\n",
       "        vertical-align: middle;\n",
       "    }\n",
       "\n",
       "    .dataframe tbody tr th {\n",
       "        vertical-align: top;\n",
       "    }\n",
       "\n",
       "    .dataframe thead th {\n",
       "        text-align: right;\n",
       "    }\n",
       "</style>\n",
       "<table border=\"1\" class=\"dataframe\">\n",
       "  <thead>\n",
       "    <tr style=\"text-align: right;\">\n",
       "      <th></th>\n",
       "      <th>date</th>\n",
       "      <th>content</th>\n",
       "      <th>user</th>\n",
       "    </tr>\n",
       "  </thead>\n",
       "  <tbody>\n",
       "    <tr>\n",
       "      <th>0</th>\n",
       "      <td>2020-01-30 17:44:58+00:00</td>\n",
       "      <td>'Moderna Inc in Massachusetts has also joined ...</td>\n",
       "      <td>{'username': 'measure7x', 'id': 11873806889259...</td>\n",
       "    </tr>\n",
       "    <tr>\n",
       "      <th>1</th>\n",
       "      <td>2020-01-30 15:49:04+00:00</td>\n",
       "      <td>.@CEPIvaccines is funding three programs to de...</td>\n",
       "      <td>{'username': 'pharmanewsintel', 'id': 11989660...</td>\n",
       "    </tr>\n",
       "    <tr>\n",
       "      <th>2</th>\n",
       "      <td>2020-01-30 15:37:04+00:00</td>\n",
       "      <td>Kudos to our friends @CEPIvaccines and @modern...</td>\n",
       "      <td>{'username': 'IAVI', 'id': 128586415, 'display...</td>\n",
       "    </tr>\n",
       "    <tr>\n",
       "      <th>3</th>\n",
       "      <td>2020-01-30 12:20:00+00:00</td>\n",
       "      <td>CEPI to fund three programmes to develop #vacc...</td>\n",
       "      <td>{'username': 'BuiltWithBio', 'id': 788311514, ...</td>\n",
       "    </tr>\n",
       "    <tr>\n",
       "      <th>4</th>\n",
       "      <td>2020-01-30 12:06:59+00:00</td>\n",
       "      <td>CEPI to fund three programmes to develop #vacc...</td>\n",
       "      <td>{'username': 'radicalscipod', 'id': 7181918115...</td>\n",
       "    </tr>\n",
       "    <tr>\n",
       "      <th>...</th>\n",
       "      <td>...</td>\n",
       "      <td>...</td>\n",
       "      <td>...</td>\n",
       "    </tr>\n",
       "    <tr>\n",
       "      <th>5317</th>\n",
       "      <td>2020-06-23 13:07:06+00:00</td>\n",
       "      <td>#censorship Every time I try to post an articl...</td>\n",
       "      <td>{'username': 'KathleenStarn18', 'id': 11660778...</td>\n",
       "    </tr>\n",
       "    <tr>\n",
       "      <th>5318</th>\n",
       "      <td>2020-06-23 12:51:21+00:00</td>\n",
       "      <td>@Dereklowe how far behind Translate Bio from M...</td>\n",
       "      <td>{'username': 'JohnOspanov', 'id': 2923491582, ...</td>\n",
       "    </tr>\n",
       "    <tr>\n",
       "      <th>5319</th>\n",
       "      <td>2020-06-23 12:26:05+00:00</td>\n",
       "      <td>Moderna to begin testing its COVID-19 vaccine ...</td>\n",
       "      <td>{'username': 'Pharmamarketeer', 'id': 68931280...</td>\n",
       "    </tr>\n",
       "    <tr>\n",
       "      <th>5320</th>\n",
       "      <td>2020-06-23 12:08:55+00:00</td>\n",
       "      <td>I just saw on Israel News Now that Moderna wil...</td>\n",
       "      <td>{'username': 'TruthFlat', 'id': 10174736768019...</td>\n",
       "    </tr>\n",
       "    <tr>\n",
       "      <th>5321</th>\n",
       "      <td>2020-06-23 11:51:16+00:00</td>\n",
       "      <td>@BlossomingLilac Nope 😁 Vaccines developed by ...</td>\n",
       "      <td>{'username': 'jawad_awan', 'id': 293440347, 'd...</td>\n",
       "    </tr>\n",
       "  </tbody>\n",
       "</table>\n",
       "<p>5322 rows × 3 columns</p>\n",
       "</div>"
      ],
      "text/plain": [
       "                          date  \\\n",
       "0    2020-01-30 17:44:58+00:00   \n",
       "1    2020-01-30 15:49:04+00:00   \n",
       "2    2020-01-30 15:37:04+00:00   \n",
       "3    2020-01-30 12:20:00+00:00   \n",
       "4    2020-01-30 12:06:59+00:00   \n",
       "...                        ...   \n",
       "5317 2020-06-23 13:07:06+00:00   \n",
       "5318 2020-06-23 12:51:21+00:00   \n",
       "5319 2020-06-23 12:26:05+00:00   \n",
       "5320 2020-06-23 12:08:55+00:00   \n",
       "5321 2020-06-23 11:51:16+00:00   \n",
       "\n",
       "                                                content  \\\n",
       "0     'Moderna Inc in Massachusetts has also joined ...   \n",
       "1     .@CEPIvaccines is funding three programs to de...   \n",
       "2     Kudos to our friends @CEPIvaccines and @modern...   \n",
       "3     CEPI to fund three programmes to develop #vacc...   \n",
       "4     CEPI to fund three programmes to develop #vacc...   \n",
       "...                                                 ...   \n",
       "5317  #censorship Every time I try to post an articl...   \n",
       "5318  @Dereklowe how far behind Translate Bio from M...   \n",
       "5319  Moderna to begin testing its COVID-19 vaccine ...   \n",
       "5320  I just saw on Israel News Now that Moderna wil...   \n",
       "5321  @BlossomingLilac Nope 😁 Vaccines developed by ...   \n",
       "\n",
       "                                                   user  \n",
       "0     {'username': 'measure7x', 'id': 11873806889259...  \n",
       "1     {'username': 'pharmanewsintel', 'id': 11989660...  \n",
       "2     {'username': 'IAVI', 'id': 128586415, 'display...  \n",
       "3     {'username': 'BuiltWithBio', 'id': 788311514, ...  \n",
       "4     {'username': 'radicalscipod', 'id': 7181918115...  \n",
       "...                                                 ...  \n",
       "5317  {'username': 'KathleenStarn18', 'id': 11660778...  \n",
       "5318  {'username': 'JohnOspanov', 'id': 2923491582, ...  \n",
       "5319  {'username': 'Pharmamarketeer', 'id': 68931280...  \n",
       "5320  {'username': 'TruthFlat', 'id': 10174736768019...  \n",
       "5321  {'username': 'jawad_awan', 'id': 293440347, 'd...  \n",
       "\n",
       "[5322 rows x 3 columns]"
      ]
     },
     "execution_count": 55,
     "metadata": {},
     "output_type": "execute_result"
    }
   ],
   "source": [
    "df_mod"
   ]
  },
  {
   "cell_type": "code",
   "execution_count": 54,
   "metadata": {
    "scrolled": false
   },
   "outputs": [
    {
     "data": {
      "text/plain": [
       "'.@CEPIvaccines is funding three programs to develop vaccines for #2019nCoV, including through partnerships with @InovioPharma, @moderna_tx, @NIAIDNews and @UQ_News https://t.co/yCYPxJxejD'"
      ]
     },
     "execution_count": 54,
     "metadata": {},
     "output_type": "execute_result"
    }
   ],
   "source": [
    "df_mod['content'][1]"
   ]
  },
  {
   "cell_type": "code",
   "execution_count": 57,
   "metadata": {},
   "outputs": [],
   "source": [
    "df_mod.to_csv (r'tweets_mod.csv', index = False, header=True)"
   ]
  },
  {
   "cell_type": "markdown",
   "metadata": {},
   "source": [
    "### Extracting Tweets for the search keyword Johnson&Johnson between January 01 2020 to June 30 2020"
   ]
  },
  {
   "cell_type": "code",
   "execution_count": 56,
   "metadata": {},
   "outputs": [],
   "source": [
    "df_jj1 = pd.DataFrame(itertools.islice(sntwitter.TwitterSearchScraper(\n",
    "    'johnson&johnson Johnson&Johnson vaccine  lang:en since:2020-01-01 until:2020-01-30').get_items(), 1000))[['date', 'content','user']]\n",
    "df_jj2 = pd.DataFrame(itertools.islice(sntwitter.TwitterSearchScraper(\n",
    "    'johnson&johnson Johnson&Johnson vaccine  lang:en since:2020-02-01 until:2020-02-28').get_items(), 1000))[['date', 'content','user']]\n",
    "df_jj3 = pd.DataFrame(itertools.islice(sntwitter.TwitterSearchScraper(\n",
    "    'johnson&johnson Johnson&Johnson vaccine  lang:en since:2020-03-01 until:2020-03-31').get_items(), 1000))[['date', 'content','user']]\n",
    "df_jj4 = pd.DataFrame(itertools.islice(sntwitter.TwitterSearchScraper(\n",
    "    'johnson&johnson Johnson&Johnson vaccine  lang:en since:2020-04-01 until:2020-04-30').get_items(), 1000))[['date', 'content','user']]\n",
    "df_jj5 = pd.DataFrame(itertools.islice(sntwitter.TwitterSearchScraper(\n",
    "    'johnson&johnson Johnson&Johnson vaccine  lang:en since:2020-05-01 until:2020-05-31').get_items(), 1000))[['date', 'content','user']]\n",
    "df_jj6 = pd.DataFrame(itertools.islice(sntwitter.TwitterSearchScraper(\n",
    "    'johnson&johnson Johnson&Johnson vaccine  lang:en since:2020-06-01 until:2020-06-30').get_items(), 1000))[['date', 'content','user']]\n"
   ]
  },
  {
   "cell_type": "code",
   "execution_count": 58,
   "metadata": {
    "scrolled": false
   },
   "outputs": [
    {
     "name": "stderr",
     "output_type": "stream",
     "text": [
      "<ipython-input-58-8a091e3d5453>:1: FutureWarning: The frame.append method is deprecated and will be removed from pandas in a future version. Use pandas.concat instead.\n",
      "  df_jj = df_jj1.append([df_jj2,df_jj3,df_jj4,df_jj5,df_jj6],ignore_index=True)\n"
     ]
    }
   ],
   "source": [
    "df_jj = df_jj1.append([df_jj2,df_jj3,df_jj4,df_jj5,df_jj6],ignore_index=True)"
   ]
  },
  {
   "cell_type": "code",
   "execution_count": 59,
   "metadata": {},
   "outputs": [
    {
     "data": {
      "text/html": [
       "<div>\n",
       "<style scoped>\n",
       "    .dataframe tbody tr th:only-of-type {\n",
       "        vertical-align: middle;\n",
       "    }\n",
       "\n",
       "    .dataframe tbody tr th {\n",
       "        vertical-align: top;\n",
       "    }\n",
       "\n",
       "    .dataframe thead th {\n",
       "        text-align: right;\n",
       "    }\n",
       "</style>\n",
       "<table border=\"1\" class=\"dataframe\">\n",
       "  <thead>\n",
       "    <tr style=\"text-align: right;\">\n",
       "      <th></th>\n",
       "      <th>date</th>\n",
       "      <th>content</th>\n",
       "      <th>user</th>\n",
       "    </tr>\n",
       "  </thead>\n",
       "  <tbody>\n",
       "    <tr>\n",
       "      <th>0</th>\n",
       "      <td>2020-01-29 23:56:25+00:00</td>\n",
       "      <td>Johnson &amp;amp; Johnson working on vaccine for d...</td>\n",
       "      <td>{'username': 'danvzla', 'id': 36240076, 'displ...</td>\n",
       "    </tr>\n",
       "    <tr>\n",
       "      <th>1</th>\n",
       "      <td>2020-01-29 23:49:52+00:00</td>\n",
       "      <td>Really not surprised that Johnson &amp;amp; Johnso...</td>\n",
       "      <td>{'username': 'notchunlee', 'id': 626536720, 'd...</td>\n",
       "    </tr>\n",
       "    <tr>\n",
       "      <th>2</th>\n",
       "      <td>2020-01-29 23:17:05+00:00</td>\n",
       "      <td>@JNJNews @SquawkCNBC Don’t wait get your coron...</td>\n",
       "      <td>{'username': 'prestonlewis77', 'id': 926586493...</td>\n",
       "    </tr>\n",
       "    <tr>\n",
       "      <th>3</th>\n",
       "      <td>2020-01-29 22:34:46+00:00</td>\n",
       "      <td>Johnson &amp;amp; Johnson Advised Coronavirus Simu...</td>\n",
       "      <td>{'username': 'Amras888', 'id': 406453297, 'dis...</td>\n",
       "    </tr>\n",
       "    <tr>\n",
       "      <th>4</th>\n",
       "      <td>2020-01-29 22:28:11+00:00</td>\n",
       "      <td>#News Johnson &amp;amp; Johnson Advised Coronaviru...</td>\n",
       "      <td>{'username': 'NewAtlantisHub', 'id': 913790060...</td>\n",
       "    </tr>\n",
       "    <tr>\n",
       "      <th>...</th>\n",
       "      <td>...</td>\n",
       "      <td>...</td>\n",
       "      <td>...</td>\n",
       "    </tr>\n",
       "    <tr>\n",
       "      <th>4427</th>\n",
       "      <td>2020-06-10 17:49:55+00:00</td>\n",
       "      <td>Johnson &amp;amp; Johnson to begin human trials fo...</td>\n",
       "      <td>{'username': 'Automobilnews1', 'id': 113019872...</td>\n",
       "    </tr>\n",
       "    <tr>\n",
       "      <th>4428</th>\n",
       "      <td>2020-06-10 17:43:33+00:00</td>\n",
       "      <td>Johnson &amp;amp; Johnson moves up start of corona...</td>\n",
       "      <td>{'username': 'globebusiness', 'id': 18981482, ...</td>\n",
       "    </tr>\n",
       "    <tr>\n",
       "      <th>4429</th>\n",
       "      <td>2020-06-10 17:43:32+00:00</td>\n",
       "      <td>Johnson &amp;amp; Johnson moves up start of corona...</td>\n",
       "      <td>{'username': 'globeandmail', 'id': 8736882, 'd...</td>\n",
       "    </tr>\n",
       "    <tr>\n",
       "      <th>4430</th>\n",
       "      <td>2020-06-10 17:43:07+00:00</td>\n",
       "      <td>@Reuters You know, Johnson&amp;amp;Johnson. They m...</td>\n",
       "      <td>{'username': '2ToneJimm', 'id': 2981813110, 'd...</td>\n",
       "    </tr>\n",
       "    <tr>\n",
       "      <th>4431</th>\n",
       "      <td>2020-06-10 17:41:33+00:00</td>\n",
       "      <td>Johnson &amp;amp; Johnson to begin human trials fo...</td>\n",
       "      <td>{'username': 'DenieceCornej0', 'id': 231859874...</td>\n",
       "    </tr>\n",
       "  </tbody>\n",
       "</table>\n",
       "<p>4432 rows × 3 columns</p>\n",
       "</div>"
      ],
      "text/plain": [
       "                          date  \\\n",
       "0    2020-01-29 23:56:25+00:00   \n",
       "1    2020-01-29 23:49:52+00:00   \n",
       "2    2020-01-29 23:17:05+00:00   \n",
       "3    2020-01-29 22:34:46+00:00   \n",
       "4    2020-01-29 22:28:11+00:00   \n",
       "...                        ...   \n",
       "4427 2020-06-10 17:49:55+00:00   \n",
       "4428 2020-06-10 17:43:33+00:00   \n",
       "4429 2020-06-10 17:43:32+00:00   \n",
       "4430 2020-06-10 17:43:07+00:00   \n",
       "4431 2020-06-10 17:41:33+00:00   \n",
       "\n",
       "                                                content  \\\n",
       "0     Johnson &amp; Johnson working on vaccine for d...   \n",
       "1     Really not surprised that Johnson &amp; Johnso...   \n",
       "2     @JNJNews @SquawkCNBC Don’t wait get your coron...   \n",
       "3     Johnson &amp; Johnson Advised Coronavirus Simu...   \n",
       "4     #News Johnson &amp; Johnson Advised Coronaviru...   \n",
       "...                                                 ...   \n",
       "4427  Johnson &amp; Johnson to begin human trials fo...   \n",
       "4428  Johnson &amp; Johnson moves up start of corona...   \n",
       "4429  Johnson &amp; Johnson moves up start of corona...   \n",
       "4430  @Reuters You know, Johnson&amp;Johnson. They m...   \n",
       "4431  Johnson &amp; Johnson to begin human trials fo...   \n",
       "\n",
       "                                                   user  \n",
       "0     {'username': 'danvzla', 'id': 36240076, 'displ...  \n",
       "1     {'username': 'notchunlee', 'id': 626536720, 'd...  \n",
       "2     {'username': 'prestonlewis77', 'id': 926586493...  \n",
       "3     {'username': 'Amras888', 'id': 406453297, 'dis...  \n",
       "4     {'username': 'NewAtlantisHub', 'id': 913790060...  \n",
       "...                                                 ...  \n",
       "4427  {'username': 'Automobilnews1', 'id': 113019872...  \n",
       "4428  {'username': 'globebusiness', 'id': 18981482, ...  \n",
       "4429  {'username': 'globeandmail', 'id': 8736882, 'd...  \n",
       "4430  {'username': '2ToneJimm', 'id': 2981813110, 'd...  \n",
       "4431  {'username': 'DenieceCornej0', 'id': 231859874...  \n",
       "\n",
       "[4432 rows x 3 columns]"
      ]
     },
     "execution_count": 59,
     "metadata": {},
     "output_type": "execute_result"
    }
   ],
   "source": [
    "df_jj"
   ]
  },
  {
   "cell_type": "code",
   "execution_count": 60,
   "metadata": {},
   "outputs": [
    {
     "data": {
      "text/plain": [
       "'Johnson &amp; Johnson working on vaccine for deadly coronavirus https://t.co/aqMuHdINtA'"
      ]
     },
     "execution_count": 60,
     "metadata": {},
     "output_type": "execute_result"
    }
   ],
   "source": [
    "df_jj['content'][0]"
   ]
  },
  {
   "cell_type": "code",
   "execution_count": 61,
   "metadata": {},
   "outputs": [],
   "source": [
    "df_jj.to_csv (r'tweets_jj.csv', index = False, header=True)"
   ]
  },
  {
   "cell_type": "code",
   "execution_count": null,
   "metadata": {},
   "outputs": [],
   "source": []
  }
 ],
 "metadata": {
  "kernelspec": {
   "display_name": "Python 3",
   "language": "python",
   "name": "python3"
  },
  "language_info": {
   "codemirror_mode": {
    "name": "ipython",
    "version": 3
   },
   "file_extension": ".py",
   "mimetype": "text/x-python",
   "name": "python",
   "nbconvert_exporter": "python",
   "pygments_lexer": "ipython3",
   "version": "3.8.5"
  }
 },
 "nbformat": 4,
 "nbformat_minor": 4
}
