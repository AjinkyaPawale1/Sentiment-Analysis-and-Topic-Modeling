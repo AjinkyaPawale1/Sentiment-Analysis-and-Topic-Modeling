{
 "cells": [
  {
   "cell_type": "code",
   "execution_count": 1,
   "metadata": {},
   "outputs": [
    {
     "name": "stdout",
     "output_type": "stream",
     "text": [
      "Requirement already satisfied: snscrape in /Users/ajinkyapawale/opt/anaconda3/lib/python3.8/site-packages (0.4.3.20220106)\n",
      "Requirement already satisfied: filelock in /Users/ajinkyapawale/opt/anaconda3/lib/python3.8/site-packages (from snscrape) (3.0.12)\n",
      "Requirement already satisfied: beautifulsoup4 in /Users/ajinkyapawale/opt/anaconda3/lib/python3.8/site-packages (from snscrape) (4.8.2)\n",
      "Requirement already satisfied: requests[socks] in /Users/ajinkyapawale/opt/anaconda3/lib/python3.8/site-packages (from snscrape) (2.24.0)\n",
      "Requirement already satisfied: pytz in /Users/ajinkyapawale/opt/anaconda3/lib/python3.8/site-packages (from snscrape) (2020.1)\n",
      "Requirement already satisfied: lxml in /Users/ajinkyapawale/opt/anaconda3/lib/python3.8/site-packages (from snscrape) (4.6.1)\n",
      "Requirement already satisfied: soupsieve>=1.2 in /Users/ajinkyapawale/opt/anaconda3/lib/python3.8/site-packages (from beautifulsoup4->snscrape) (2.0.1)\n",
      "Requirement already satisfied: idna<3,>=2.5 in /Users/ajinkyapawale/opt/anaconda3/lib/python3.8/site-packages (from requests[socks]->snscrape) (2.10)\n",
      "Requirement already satisfied: certifi>=2017.4.17 in /Users/ajinkyapawale/opt/anaconda3/lib/python3.8/site-packages (from requests[socks]->snscrape) (2020.6.20)\n",
      "Requirement already satisfied: urllib3!=1.25.0,!=1.25.1,<1.26,>=1.21.1 in /Users/ajinkyapawale/opt/anaconda3/lib/python3.8/site-packages (from requests[socks]->snscrape) (1.25.11)\n",
      "Requirement already satisfied: chardet<4,>=3.0.2 in /Users/ajinkyapawale/opt/anaconda3/lib/python3.8/site-packages (from requests[socks]->snscrape) (3.0.4)\n",
      "Requirement already satisfied: PySocks!=1.5.7,>=1.5.6 in /Users/ajinkyapawale/opt/anaconda3/lib/python3.8/site-packages (from requests[socks]->snscrape) (1.7.1)\n"
     ]
    }
   ],
   "source": [
    "!python -m pip install snscrape"
   ]
  },
  {
   "cell_type": "code",
   "execution_count": 2,
   "metadata": {},
   "outputs": [],
   "source": [
    "import pandas as pd\n",
    "import snscrape.modules.twitter as sntwitter\n",
    "import itertools"
   ]
  },
  {
   "cell_type": "markdown",
   "metadata": {},
   "source": [
    "### Phase 1: Scraping Data for each of the 10 metro cities for the hastags demonetization and black money"
   ]
  },
  {
   "cell_type": "code",
   "execution_count": 149,
   "metadata": {},
   "outputs": [],
   "source": [
    "df_city11 = pd.DataFrame(itertools.islice(sntwitter.TwitterSearchScraper(\n",
    "    'demonetization near:\"New Delhi\" within:15km lang:en since:2016-11-09 until:2016-12-09').get_items(), 50))[['date', 'content','user']]\n",
    "df_city12 = pd.DataFrame(itertools.islice(sntwitter.TwitterSearchScraper(\n",
    "    'black money near:\"New Delhi\" within:15km lang:en since:2016-11-09 until:2016-12-09').get_items(), 50))[['date', 'content','user']]"
   ]
  },
  {
   "cell_type": "code",
   "execution_count": 150,
   "metadata": {
    "scrolled": true
   },
   "outputs": [
    {
     "data": {
      "text/plain": [
       "(50, 50)"
      ]
     },
     "execution_count": 150,
     "metadata": {},
     "output_type": "execute_result"
    }
   ],
   "source": [
    "len(df_city11), len(df_city12)"
   ]
  },
  {
   "cell_type": "code",
   "execution_count": 151,
   "metadata": {},
   "outputs": [],
   "source": [
    "df_city11['geo_tag'] = 'New Delhi'\n",
    "df_city12['geo_tag'] = 'New Delhi'"
   ]
  },
  {
   "cell_type": "code",
   "execution_count": 152,
   "metadata": {},
   "outputs": [],
   "source": [
    "df_city21 = pd.DataFrame(itertools.islice(sntwitter.TwitterSearchScraper(\n",
    "    'demonetization near:\"Mumbai\" within:15km lang:en since:2016-11-09 until:2016-12-09').get_items(), 50))[['date', 'content','user']]\n",
    "df_city22 = pd.DataFrame(itertools.islice(sntwitter.TwitterSearchScraper(\n",
    "    'black money near:\"Mumbai\" within:15km lang:en since:2016-11-09 until:2016-12-09').get_items(), 50))[['date', 'content','user']]"
   ]
  },
  {
   "cell_type": "code",
   "execution_count": 153,
   "metadata": {},
   "outputs": [
    {
     "data": {
      "text/plain": [
       "(50, 50)"
      ]
     },
     "execution_count": 153,
     "metadata": {},
     "output_type": "execute_result"
    }
   ],
   "source": [
    "len(df_city21), len(df_city22)"
   ]
  },
  {
   "cell_type": "code",
   "execution_count": 154,
   "metadata": {},
   "outputs": [],
   "source": [
    "df_city21['geo_tag'] = 'Mumbai'\n",
    "df_city22['geo_tag'] = 'Mumbai'"
   ]
  },
  {
   "cell_type": "code",
   "execution_count": 155,
   "metadata": {},
   "outputs": [],
   "source": [
    "df_city31 = pd.DataFrame(itertools.islice(sntwitter.TwitterSearchScraper(\n",
    "    'demonetization near:\"Kolkata\" within:15km lang:en since:2016-11-09 until:2016-12-09').get_items(), 50))[['date', 'content','user']]\n",
    "df_city32 = pd.DataFrame(itertools.islice(sntwitter.TwitterSearchScraper(\n",
    "    'black money near:\"Kolkata\" within:15km lang:en since:2016-11-09 until:2016-12-09').get_items(), 50))[['date', 'content','user']]"
   ]
  },
  {
   "cell_type": "code",
   "execution_count": 156,
   "metadata": {},
   "outputs": [
    {
     "data": {
      "text/plain": [
       "(50, 50)"
      ]
     },
     "execution_count": 156,
     "metadata": {},
     "output_type": "execute_result"
    }
   ],
   "source": [
    "len(df_city31), len(df_city32)"
   ]
  },
  {
   "cell_type": "code",
   "execution_count": 157,
   "metadata": {},
   "outputs": [],
   "source": [
    "df_city31['geo_tag'] = 'Kolkata'\n",
    "df_city32['geo_tag'] = 'Kolkata'"
   ]
  },
  {
   "cell_type": "code",
   "execution_count": 158,
   "metadata": {},
   "outputs": [],
   "source": [
    "df_city41 = pd.DataFrame(itertools.islice(sntwitter.TwitterSearchScraper(\n",
    "    'demonetization near:\"Chennai\" within:15km lang:en since:2016-11-09 until:2016-12-09').get_items(), 50))[['date', 'content','user']]\n",
    "df_city42 = pd.DataFrame(itertools.islice(sntwitter.TwitterSearchScraper(\n",
    "    'black money near:\"Chennai\" within:15km lang:en since:2016-11-09 until:2016-12-09').get_items(), 50))[['date', 'content','user']]"
   ]
  },
  {
   "cell_type": "code",
   "execution_count": 159,
   "metadata": {
    "scrolled": true
   },
   "outputs": [
    {
     "data": {
      "text/plain": [
       "(50, 50)"
      ]
     },
     "execution_count": 159,
     "metadata": {},
     "output_type": "execute_result"
    }
   ],
   "source": [
    "len(df_city41), len(df_city42)"
   ]
  },
  {
   "cell_type": "code",
   "execution_count": 160,
   "metadata": {},
   "outputs": [],
   "source": [
    "df_city41['geo_tag'] = 'Chennai'\n",
    "df_city42['geo_tag'] = 'Chennai'"
   ]
  },
  {
   "cell_type": "code",
   "execution_count": 161,
   "metadata": {},
   "outputs": [],
   "source": [
    "df_city51 = pd.DataFrame(itertools.islice(sntwitter.TwitterSearchScraper(\n",
    "    'demonetization near:\"Bangalore\" within:15km lang:en since:2016-11-09 until:2016-12-09').get_items(), 50))[['date', 'content','user']]\n",
    "df_city52 = pd.DataFrame(itertools.islice(sntwitter.TwitterSearchScraper(\n",
    "    'black money near:\"Bangalore\" within:15km lang:en since:2016-11-09 until:2016-12-09').get_items(), 50))[['date', 'content','user']]"
   ]
  },
  {
   "cell_type": "code",
   "execution_count": 162,
   "metadata": {},
   "outputs": [
    {
     "data": {
      "text/plain": [
       "(50, 50)"
      ]
     },
     "execution_count": 162,
     "metadata": {},
     "output_type": "execute_result"
    }
   ],
   "source": [
    "len(df_city51), len(df_city52)"
   ]
  },
  {
   "cell_type": "code",
   "execution_count": 163,
   "metadata": {},
   "outputs": [],
   "source": [
    "df_city51['geo_tag'] = 'Bangalore'\n",
    "df_city52['geo_tag'] = 'Bangalore'"
   ]
  },
  {
   "cell_type": "code",
   "execution_count": 164,
   "metadata": {},
   "outputs": [],
   "source": [
    "df_city61 = pd.DataFrame(itertools.islice(sntwitter.TwitterSearchScraper(\n",
    "    'demonetization near:\"Hyderabad\" within:15km lang:en since:2016-11-09 until:2016-12-09').get_items(), 50))[['date', 'content','user']]\n",
    "df_city62 = pd.DataFrame(itertools.islice(sntwitter.TwitterSearchScraper(\n",
    "    'black money near:\"Hyderabad\" within:15km lang:en since:2016-11-09 until:2016-12-09').get_items(), 50))[['date', 'content','user']]"
   ]
  },
  {
   "cell_type": "code",
   "execution_count": 165,
   "metadata": {},
   "outputs": [
    {
     "data": {
      "text/plain": [
       "(50, 50)"
      ]
     },
     "execution_count": 165,
     "metadata": {},
     "output_type": "execute_result"
    }
   ],
   "source": [
    "len(df_city61), len(df_city62)"
   ]
  },
  {
   "cell_type": "code",
   "execution_count": 166,
   "metadata": {},
   "outputs": [],
   "source": [
    "df_city61['geo_tag'] = 'Hyderabad'\n",
    "df_city62['geo_tag'] = 'Hyderabad'"
   ]
  },
  {
   "cell_type": "code",
   "execution_count": 167,
   "metadata": {},
   "outputs": [],
   "source": [
    "df_city71 = pd.DataFrame(itertools.islice(sntwitter.TwitterSearchScraper(\n",
    "    'demonetization near:\"Ahmedabad\" within:15km lang:en since:2016-11-09 until:2016-12-09').get_items(), 50))[['date', 'content','user']]\n",
    "df_city72 = pd.DataFrame(itertools.islice(sntwitter.TwitterSearchScraper(\n",
    "    'black money near:\"Ahmedabad\" within:15km lang:en since:2016-11-09 until:2016-12-09').get_items(), 50))[['date', 'content','user']]"
   ]
  },
  {
   "cell_type": "code",
   "execution_count": 168,
   "metadata": {},
   "outputs": [
    {
     "data": {
      "text/plain": [
       "(50, 50)"
      ]
     },
     "execution_count": 168,
     "metadata": {},
     "output_type": "execute_result"
    }
   ],
   "source": [
    "len(df_city71), len(df_city72)"
   ]
  },
  {
   "cell_type": "code",
   "execution_count": 169,
   "metadata": {},
   "outputs": [],
   "source": [
    "df_city71['geo_tag'] = 'Ahmedabad'\n",
    "df_city72['geo_tag'] = 'Ahmedabad'"
   ]
  },
  {
   "cell_type": "code",
   "execution_count": 170,
   "metadata": {},
   "outputs": [],
   "source": [
    "df_city81 = pd.DataFrame(itertools.islice(sntwitter.TwitterSearchScraper(\n",
    "    'demonetization near:\"Pune\" within:15km lang:en since:2016-11-09 until:2016-12-09').get_items(), 50))[['date', 'content','user']]\n",
    "df_city82 = pd.DataFrame(itertools.islice(sntwitter.TwitterSearchScraper(\n",
    "    'black money near:\"Pune\" within:15km lang:en since:2016-11-09 until:2016-12-09').get_items(), 50))[['date', 'content','user']]"
   ]
  },
  {
   "cell_type": "code",
   "execution_count": 171,
   "metadata": {},
   "outputs": [
    {
     "data": {
      "text/plain": [
       "(50, 50)"
      ]
     },
     "execution_count": 171,
     "metadata": {},
     "output_type": "execute_result"
    }
   ],
   "source": [
    "len(df_city81), len(df_city82)"
   ]
  },
  {
   "cell_type": "code",
   "execution_count": 172,
   "metadata": {},
   "outputs": [],
   "source": [
    "df_city81['geo_tag'] = 'Pune'\n",
    "df_city82['geo_tag'] = 'Pune'"
   ]
  },
  {
   "cell_type": "code",
   "execution_count": 173,
   "metadata": {},
   "outputs": [],
   "source": [
    "df_city91 = pd.DataFrame(itertools.islice(sntwitter.TwitterSearchScraper(\n",
    "    'demonetization near:\"Lucknow\" within:15km lang:en since:2016-11-09 until:2016-12-09').get_items(), 50))[['date', 'content','user']]\n",
    "df_city92 = pd.DataFrame(itertools.islice(sntwitter.TwitterSearchScraper(\n",
    "    'black money near:\"Lucknow\" within:15km lang:en since:2016-11-09 until:2016-12-09').get_items(), 50))[['date', 'content','user']]"
   ]
  },
  {
   "cell_type": "code",
   "execution_count": 174,
   "metadata": {},
   "outputs": [
    {
     "data": {
      "text/plain": [
       "(50, 50)"
      ]
     },
     "execution_count": 174,
     "metadata": {},
     "output_type": "execute_result"
    }
   ],
   "source": [
    "len(df_city91), len(df_city92)"
   ]
  },
  {
   "cell_type": "code",
   "execution_count": 175,
   "metadata": {},
   "outputs": [],
   "source": [
    "df_city91['geo_tag'] = 'Lucknow'\n",
    "df_city92['geo_tag'] = 'Lucknow'"
   ]
  },
  {
   "cell_type": "code",
   "execution_count": 176,
   "metadata": {},
   "outputs": [],
   "source": [
    "df_city101 = pd.DataFrame(itertools.islice(sntwitter.TwitterSearchScraper(\n",
    "    'demonetization near:\"Jaipur\" within:15km lang:en since:2016-11-09 until:2016-12-09').get_items(), 50))[['date', 'content','user']]\n",
    "df_city102 = pd.DataFrame(itertools.islice(sntwitter.TwitterSearchScraper(\n",
    "    'black money near:\"Jaipur\" within:15km lang:en since:2016-11-09 until:2016-12-09').get_items(), 50))[['date', 'content','user']]"
   ]
  },
  {
   "cell_type": "code",
   "execution_count": 177,
   "metadata": {},
   "outputs": [
    {
     "data": {
      "text/plain": [
       "(50, 50)"
      ]
     },
     "execution_count": 177,
     "metadata": {},
     "output_type": "execute_result"
    }
   ],
   "source": [
    "len(df_city101), len(df_city102)"
   ]
  },
  {
   "cell_type": "code",
   "execution_count": 178,
   "metadata": {},
   "outputs": [],
   "source": [
    "df_city101['geo_tag'] = 'Jaipur'\n",
    "df_city102['geo_tag'] = 'Jaipur'"
   ]
  },
  {
   "cell_type": "code",
   "execution_count": 179,
   "metadata": {},
   "outputs": [
    {
     "name": "stderr",
     "output_type": "stream",
     "text": [
      "<ipython-input-179-e79a33098ef4>:1: FutureWarning: The frame.append method is deprecated and will be removed from pandas in a future version. Use pandas.concat instead.\n",
      "  df_city_phase1 = df_city11.append([df_city12,df_city21,df_city22,df_city31,df_city32,df_city41,df_city42,df_city51,df_city52,\n"
     ]
    }
   ],
   "source": [
    "df_city_phase1 = df_city11.append([df_city12,df_city21,df_city22,df_city31,df_city32,df_city41,df_city42,df_city51,df_city52,\n",
    "                  df_city61,df_city62,df_city71, df_city72, df_city81, df_city82, df_city91, df_city92, df_city101, df_city102], ignore_index=True)"
   ]
  },
  {
   "cell_type": "code",
   "execution_count": 180,
   "metadata": {},
   "outputs": [
    {
     "data": {
      "text/html": [
       "<div>\n",
       "<style scoped>\n",
       "    .dataframe tbody tr th:only-of-type {\n",
       "        vertical-align: middle;\n",
       "    }\n",
       "\n",
       "    .dataframe tbody tr th {\n",
       "        vertical-align: top;\n",
       "    }\n",
       "\n",
       "    .dataframe thead th {\n",
       "        text-align: right;\n",
       "    }\n",
       "</style>\n",
       "<table border=\"1\" class=\"dataframe\">\n",
       "  <thead>\n",
       "    <tr style=\"text-align: right;\">\n",
       "      <th></th>\n",
       "      <th>date</th>\n",
       "      <th>content</th>\n",
       "      <th>user</th>\n",
       "      <th>geo_tag</th>\n",
       "    </tr>\n",
       "  </thead>\n",
       "  <tbody>\n",
       "    <tr>\n",
       "      <th>0</th>\n",
       "      <td>2016-12-08 20:50:00+00:00</td>\n",
       "      <td>@Narendramodi_PM might have had good intention...</td>\n",
       "      <td>{'username': 'MesoriseWorld', 'id': 1246773612...</td>\n",
       "      <td>New Delhi</td>\n",
       "    </tr>\n",
       "    <tr>\n",
       "      <th>1</th>\n",
       "      <td>2016-12-08 17:35:34+00:00</td>\n",
       "      <td>There has been a major cut off in Oxygen of Co...</td>\n",
       "      <td>{'username': 'FastNewsDelhi', 'id': 2472585180...</td>\n",
       "      <td>New Delhi</td>\n",
       "    </tr>\n",
       "    <tr>\n",
       "      <th>2</th>\n",
       "      <td>2016-12-08 17:15:24+00:00</td>\n",
       "      <td>.@narendramodi @arunjaitley We are supporting ...</td>\n",
       "      <td>{'username': 'GauravJaini', 'id': 918870559, '...</td>\n",
       "      <td>New Delhi</td>\n",
       "    </tr>\n",
       "    <tr>\n",
       "      <th>3</th>\n",
       "      <td>2016-12-08 16:45:32+00:00</td>\n",
       "      <td>@TimesNow ANAND FORGOT HE WAS ANCHORING A PROG...</td>\n",
       "      <td>{'username': 'pronabchaky', 'id': 3242409536, ...</td>\n",
       "      <td>New Delhi</td>\n",
       "    </tr>\n",
       "    <tr>\n",
       "      <th>4</th>\n",
       "      <td>2016-12-08 12:22:47+00:00</td>\n",
       "      <td>Join us as me and my colleagues bring you a gr...</td>\n",
       "      <td>{'username': 'scribe_prashant', 'id': 49305941...</td>\n",
       "      <td>New Delhi</td>\n",
       "    </tr>\n",
       "    <tr>\n",
       "      <th>...</th>\n",
       "      <td>...</td>\n",
       "      <td>...</td>\n",
       "      <td>...</td>\n",
       "      <td>...</td>\n",
       "    </tr>\n",
       "    <tr>\n",
       "      <th>995</th>\n",
       "      <td>2016-11-23 04:04:39+00:00</td>\n",
       "      <td>@SameenAdeeb @tajmahalfoxtrot @scroll_in, Arti...</td>\n",
       "      <td>{'username': 'AnilVegomega', 'id': 2776888944,...</td>\n",
       "      <td>Jaipur</td>\n",
       "    </tr>\n",
       "    <tr>\n",
       "      <th>996</th>\n",
       "      <td>2016-11-23 02:45:32+00:00</td>\n",
       "      <td>@bukharishujaat @ShujaUH it was essentially to...</td>\n",
       "      <td>{'username': 'DrRupani', 'id': 2160285660, 'di...</td>\n",
       "      <td>Jaipur</td>\n",
       "    </tr>\n",
       "    <tr>\n",
       "      <th>997</th>\n",
       "      <td>2016-11-22 15:42:05+00:00</td>\n",
       "      <td>@kiran_patniak @tanveer1729 @EconomicTimes Are...</td>\n",
       "      <td>{'username': 'AnilVegomega', 'id': 2776888944,...</td>\n",
       "      <td>Jaipur</td>\n",
       "    </tr>\n",
       "    <tr>\n",
       "      <th>998</th>\n",
       "      <td>2016-11-22 15:34:51+00:00</td>\n",
       "      <td>@minimathur! Plan is clear, make #BlackMoney u...</td>\n",
       "      <td>{'username': 'AnilVegomega', 'id': 2776888944,...</td>\n",
       "      <td>Jaipur</td>\n",
       "    </tr>\n",
       "    <tr>\n",
       "      <th>999</th>\n",
       "      <td>2016-11-22 13:46:30+00:00</td>\n",
       "      <td>@ArvindKejriwal Best jodi who know the inside ...</td>\n",
       "      <td>{'username': 'AnilVegomega', 'id': 2776888944,...</td>\n",
       "      <td>Jaipur</td>\n",
       "    </tr>\n",
       "  </tbody>\n",
       "</table>\n",
       "<p>1000 rows × 4 columns</p>\n",
       "</div>"
      ],
      "text/plain": [
       "                         date  \\\n",
       "0   2016-12-08 20:50:00+00:00   \n",
       "1   2016-12-08 17:35:34+00:00   \n",
       "2   2016-12-08 17:15:24+00:00   \n",
       "3   2016-12-08 16:45:32+00:00   \n",
       "4   2016-12-08 12:22:47+00:00   \n",
       "..                        ...   \n",
       "995 2016-11-23 04:04:39+00:00   \n",
       "996 2016-11-23 02:45:32+00:00   \n",
       "997 2016-11-22 15:42:05+00:00   \n",
       "998 2016-11-22 15:34:51+00:00   \n",
       "999 2016-11-22 13:46:30+00:00   \n",
       "\n",
       "                                               content  \\\n",
       "0    @Narendramodi_PM might have had good intention...   \n",
       "1    There has been a major cut off in Oxygen of Co...   \n",
       "2    .@narendramodi @arunjaitley We are supporting ...   \n",
       "3    @TimesNow ANAND FORGOT HE WAS ANCHORING A PROG...   \n",
       "4    Join us as me and my colleagues bring you a gr...   \n",
       "..                                                 ...   \n",
       "995  @SameenAdeeb @tajmahalfoxtrot @scroll_in, Arti...   \n",
       "996  @bukharishujaat @ShujaUH it was essentially to...   \n",
       "997  @kiran_patniak @tanveer1729 @EconomicTimes Are...   \n",
       "998  @minimathur! Plan is clear, make #BlackMoney u...   \n",
       "999  @ArvindKejriwal Best jodi who know the inside ...   \n",
       "\n",
       "                                                  user    geo_tag  \n",
       "0    {'username': 'MesoriseWorld', 'id': 1246773612...  New Delhi  \n",
       "1    {'username': 'FastNewsDelhi', 'id': 2472585180...  New Delhi  \n",
       "2    {'username': 'GauravJaini', 'id': 918870559, '...  New Delhi  \n",
       "3    {'username': 'pronabchaky', 'id': 3242409536, ...  New Delhi  \n",
       "4    {'username': 'scribe_prashant', 'id': 49305941...  New Delhi  \n",
       "..                                                 ...        ...  \n",
       "995  {'username': 'AnilVegomega', 'id': 2776888944,...     Jaipur  \n",
       "996  {'username': 'DrRupani', 'id': 2160285660, 'di...     Jaipur  \n",
       "997  {'username': 'AnilVegomega', 'id': 2776888944,...     Jaipur  \n",
       "998  {'username': 'AnilVegomega', 'id': 2776888944,...     Jaipur  \n",
       "999  {'username': 'AnilVegomega', 'id': 2776888944,...     Jaipur  \n",
       "\n",
       "[1000 rows x 4 columns]"
      ]
     },
     "execution_count": 180,
     "metadata": {},
     "output_type": "execute_result"
    }
   ],
   "source": [
    "df_city_phase1"
   ]
  },
  {
   "cell_type": "code",
   "execution_count": 181,
   "metadata": {},
   "outputs": [],
   "source": [
    "df_city_phase1.to_csv (r'tweets_phase1.csv', index = False, header=True)"
   ]
  },
  {
   "cell_type": "markdown",
   "metadata": {},
   "source": [
    "### Phase 2: Scraping Data for each of the 10 metro cities for the hastags demonetization and black money"
   ]
  },
  {
   "cell_type": "code",
   "execution_count": 182,
   "metadata": {},
   "outputs": [],
   "source": [
    "df_city11 = pd.DataFrame(itertools.islice(sntwitter.TwitterSearchScraper(\n",
    "    'demonetization near:\"New Delhi\" within:15km lang:en since:2016-12-10 until:2017-01-10').get_items(), 50))[['date', 'content','user']]\n",
    "df_city12 = pd.DataFrame(itertools.islice(sntwitter.TwitterSearchScraper(\n",
    "    'black money near:\"New Delhi\" within:15km lang:en since:2016-12-10 until:2017-01-10').get_items(), 50))[['date', 'content','user']]"
   ]
  },
  {
   "cell_type": "code",
   "execution_count": 183,
   "metadata": {
    "scrolled": true
   },
   "outputs": [
    {
     "data": {
      "text/plain": [
       "(50, 50)"
      ]
     },
     "execution_count": 183,
     "metadata": {},
     "output_type": "execute_result"
    }
   ],
   "source": [
    "len(df_city11), len(df_city12)"
   ]
  },
  {
   "cell_type": "code",
   "execution_count": 184,
   "metadata": {},
   "outputs": [],
   "source": [
    "df_city11['geo_tag'] = 'New Delhi'\n",
    "df_city12['geo_tag'] = 'New Delhi'"
   ]
  },
  {
   "cell_type": "code",
   "execution_count": 185,
   "metadata": {},
   "outputs": [],
   "source": [
    "df_city21 = pd.DataFrame(itertools.islice(sntwitter.TwitterSearchScraper(\n",
    "    'demonetization near:\"Mumbai\" within:15km lang:en since:2016-12-10 until:2017-01-10').get_items(), 50))[['date', 'content','user']]\n",
    "df_city22 = pd.DataFrame(itertools.islice(sntwitter.TwitterSearchScraper(\n",
    "    'black money near:\"Mumbai\" within:15km lang:en since:2016-12-10 until:2017-01-10').get_items(), 50))[['date', 'content','user']]"
   ]
  },
  {
   "cell_type": "code",
   "execution_count": 186,
   "metadata": {},
   "outputs": [
    {
     "data": {
      "text/plain": [
       "(50, 50)"
      ]
     },
     "execution_count": 186,
     "metadata": {},
     "output_type": "execute_result"
    }
   ],
   "source": [
    "len(df_city21), len(df_city22)"
   ]
  },
  {
   "cell_type": "code",
   "execution_count": 187,
   "metadata": {},
   "outputs": [],
   "source": [
    "df_city21['geo_tag'] = 'Mumbai'\n",
    "df_city22['geo_tag'] = 'Mumbai'"
   ]
  },
  {
   "cell_type": "code",
   "execution_count": 188,
   "metadata": {},
   "outputs": [],
   "source": [
    "df_city31 = pd.DataFrame(itertools.islice(sntwitter.TwitterSearchScraper(\n",
    "    'demonetization near:\"Kolkata\" within:15km lang:en since:2016-12-10 until:2017-01-10').get_items(), 50))[['date', 'content','user']]\n",
    "df_city32 = pd.DataFrame(itertools.islice(sntwitter.TwitterSearchScraper(\n",
    "    'black money near:\"Kolkata\" within:15km lang:en since:2016-12-10 until:2017-01-10').get_items(), 50))[['date', 'content','user']]"
   ]
  },
  {
   "cell_type": "code",
   "execution_count": 189,
   "metadata": {},
   "outputs": [
    {
     "data": {
      "text/plain": [
       "(50, 50)"
      ]
     },
     "execution_count": 189,
     "metadata": {},
     "output_type": "execute_result"
    }
   ],
   "source": [
    "len(df_city31), len(df_city32)"
   ]
  },
  {
   "cell_type": "code",
   "execution_count": 190,
   "metadata": {},
   "outputs": [],
   "source": [
    "df_city31['geo_tag'] = 'Kolkata'\n",
    "df_city32['geo_tag'] = 'Kolkata'"
   ]
  },
  {
   "cell_type": "code",
   "execution_count": 191,
   "metadata": {},
   "outputs": [],
   "source": [
    "df_city41 = pd.DataFrame(itertools.islice(sntwitter.TwitterSearchScraper(\n",
    "    'demonetization near:\"Chennai\" within:15km lang:en since:2016-12-10 until:2017-01-10').get_items(), 50))[['date', 'content','user']]\n",
    "df_city42 = pd.DataFrame(itertools.islice(sntwitter.TwitterSearchScraper(\n",
    "    'black money near:\"Chennai\" within:15km lang:en since:2016-12-10 until:2017-01-10').get_items(), 50))[['date', 'content','user']]"
   ]
  },
  {
   "cell_type": "code",
   "execution_count": 192,
   "metadata": {
    "scrolled": true
   },
   "outputs": [
    {
     "data": {
      "text/plain": [
       "(50, 50)"
      ]
     },
     "execution_count": 192,
     "metadata": {},
     "output_type": "execute_result"
    }
   ],
   "source": [
    "len(df_city41), len(df_city42)"
   ]
  },
  {
   "cell_type": "code",
   "execution_count": 193,
   "metadata": {},
   "outputs": [],
   "source": [
    "df_city41['geo_tag'] = 'Chennai'\n",
    "df_city42['geo_tag'] = 'Chennai'"
   ]
  },
  {
   "cell_type": "code",
   "execution_count": 194,
   "metadata": {},
   "outputs": [],
   "source": [
    "df_city51 = pd.DataFrame(itertools.islice(sntwitter.TwitterSearchScraper(\n",
    "    'demonetization near:\"Bangalore\" within:15km lang:en since:2016-12-10 until:2017-01-10').get_items(), 50))[['date', 'content','user']]\n",
    "df_city52 = pd.DataFrame(itertools.islice(sntwitter.TwitterSearchScraper(\n",
    "    'black money near:\"Bangalore\" within:15km lang:en since:2016-12-10 until:2017-01-10').get_items(), 50))[['date', 'content','user']]"
   ]
  },
  {
   "cell_type": "code",
   "execution_count": 195,
   "metadata": {},
   "outputs": [
    {
     "data": {
      "text/plain": [
       "(50, 50)"
      ]
     },
     "execution_count": 195,
     "metadata": {},
     "output_type": "execute_result"
    }
   ],
   "source": [
    "len(df_city51), len(df_city52)"
   ]
  },
  {
   "cell_type": "code",
   "execution_count": 196,
   "metadata": {},
   "outputs": [],
   "source": [
    "df_city51['geo_tag'] = 'Bangalore'\n",
    "df_city52['geo_tag'] = 'Bangalore'"
   ]
  },
  {
   "cell_type": "code",
   "execution_count": 197,
   "metadata": {},
   "outputs": [],
   "source": [
    "df_city61 = pd.DataFrame(itertools.islice(sntwitter.TwitterSearchScraper(\n",
    "    'demonetization near:\"Hyderabad\" within:15km lang:en since:2016-12-10 until:2017-01-10').get_items(), 50))[['date', 'content','user']]\n",
    "df_city62 = pd.DataFrame(itertools.islice(sntwitter.TwitterSearchScraper(\n",
    "    'black money near:\"Hyderabad\" within:15km lang:en since:2016-12-10 until:2017-01-10').get_items(), 50))[['date', 'content','user']]"
   ]
  },
  {
   "cell_type": "code",
   "execution_count": 198,
   "metadata": {},
   "outputs": [
    {
     "data": {
      "text/plain": [
       "(50, 50)"
      ]
     },
     "execution_count": 198,
     "metadata": {},
     "output_type": "execute_result"
    }
   ],
   "source": [
    "len(df_city61), len(df_city62)"
   ]
  },
  {
   "cell_type": "code",
   "execution_count": 199,
   "metadata": {},
   "outputs": [],
   "source": [
    "df_city61['geo_tag'] = 'Hyderabad'\n",
    "df_city62['geo_tag'] = 'Hyderabad'"
   ]
  },
  {
   "cell_type": "code",
   "execution_count": 200,
   "metadata": {},
   "outputs": [],
   "source": [
    "df_city71 = pd.DataFrame(itertools.islice(sntwitter.TwitterSearchScraper(\n",
    "    'demonetization near:\"Ahmedabad\" within:15km lang:en since:2016-12-10 until:2017-01-10').get_items(), 50))[['date', 'content','user']]\n",
    "df_city72 = pd.DataFrame(itertools.islice(sntwitter.TwitterSearchScraper(\n",
    "    'black money near:\"Ahmedabad\" within:15km lang:en since:2016-12-10 until:2017-01-10').get_items(), 50))[['date', 'content','user']]"
   ]
  },
  {
   "cell_type": "code",
   "execution_count": 201,
   "metadata": {},
   "outputs": [
    {
     "data": {
      "text/plain": [
       "(48, 50)"
      ]
     },
     "execution_count": 201,
     "metadata": {},
     "output_type": "execute_result"
    }
   ],
   "source": [
    "len(df_city71), len(df_city72)"
   ]
  },
  {
   "cell_type": "code",
   "execution_count": 202,
   "metadata": {},
   "outputs": [],
   "source": [
    "df_city71['geo_tag'] = 'Ahmedabad'\n",
    "df_city72['geo_tag'] = 'Ahmedabad'"
   ]
  },
  {
   "cell_type": "code",
   "execution_count": 203,
   "metadata": {},
   "outputs": [],
   "source": [
    "df_city81 = pd.DataFrame(itertools.islice(sntwitter.TwitterSearchScraper(\n",
    "    'demonetization near:\"Pune\" within:15km lang:en since:2016-12-10 until:2017-01-10').get_items(), 50))[['date', 'content','user']]\n",
    "df_city82 = pd.DataFrame(itertools.islice(sntwitter.TwitterSearchScraper(\n",
    "    'black money near:\"Pune\" within:15km lang:en since:2016-12-10 until:2017-01-10').get_items(), 50))[['date', 'content','user']]"
   ]
  },
  {
   "cell_type": "code",
   "execution_count": 204,
   "metadata": {},
   "outputs": [
    {
     "data": {
      "text/plain": [
       "(50, 50)"
      ]
     },
     "execution_count": 204,
     "metadata": {},
     "output_type": "execute_result"
    }
   ],
   "source": [
    "len(df_city81), len(df_city82)"
   ]
  },
  {
   "cell_type": "code",
   "execution_count": 205,
   "metadata": {},
   "outputs": [],
   "source": [
    "df_city81['geo_tag'] = 'Pune'\n",
    "df_city82['geo_tag'] = 'Pune'"
   ]
  },
  {
   "cell_type": "code",
   "execution_count": 206,
   "metadata": {},
   "outputs": [],
   "source": [
    "df_city91 = pd.DataFrame(itertools.islice(sntwitter.TwitterSearchScraper(\n",
    "    'demonetization near:\"Lucknow\" within:15km lang:en since:2016-12-10 until:2017-01-10').get_items(), 50))[['date', 'content','user']]\n",
    "df_city92 = pd.DataFrame(itertools.islice(sntwitter.TwitterSearchScraper(\n",
    "    'black money near:\"Lucknow\" within:15km lang:en since:2016-12-10 until:2017-01-10').get_items(), 50))[['date', 'content','user']]"
   ]
  },
  {
   "cell_type": "code",
   "execution_count": 207,
   "metadata": {},
   "outputs": [
    {
     "data": {
      "text/plain": [
       "(50, 50)"
      ]
     },
     "execution_count": 207,
     "metadata": {},
     "output_type": "execute_result"
    }
   ],
   "source": [
    "len(df_city91), len(df_city92)"
   ]
  },
  {
   "cell_type": "code",
   "execution_count": 208,
   "metadata": {},
   "outputs": [],
   "source": [
    "df_city91['geo_tag'] = 'Lucknow'\n",
    "df_city92['geo_tag'] = 'Lucknow'"
   ]
  },
  {
   "cell_type": "code",
   "execution_count": 209,
   "metadata": {},
   "outputs": [],
   "source": [
    "df_city101 = pd.DataFrame(itertools.islice(sntwitter.TwitterSearchScraper(\n",
    "    'demonetization near:\"Jaipur\" within:15km lang:en since:2016-12-10 until:2017-01-10').get_items(), 50))[['date', 'content','user']]\n",
    "df_city102 = pd.DataFrame(itertools.islice(sntwitter.TwitterSearchScraper(\n",
    "    'black money near:\"Jaipur\" within:15km lang:en since:2016-12-10 until:2017-01-10').get_items(), 50))[['date', 'content','user']]"
   ]
  },
  {
   "cell_type": "code",
   "execution_count": 210,
   "metadata": {},
   "outputs": [
    {
     "data": {
      "text/plain": [
       "(5, 42)"
      ]
     },
     "execution_count": 210,
     "metadata": {},
     "output_type": "execute_result"
    }
   ],
   "source": [
    "len(df_city101), len(df_city102)"
   ]
  },
  {
   "cell_type": "code",
   "execution_count": 211,
   "metadata": {},
   "outputs": [],
   "source": [
    "df_city101['geo_tag'] = 'Jaipur'\n",
    "df_city102['geo_tag'] = 'Jaipur'"
   ]
  },
  {
   "cell_type": "code",
   "execution_count": 212,
   "metadata": {},
   "outputs": [
    {
     "name": "stderr",
     "output_type": "stream",
     "text": [
      "<ipython-input-212-ed86ae182080>:1: FutureWarning: The frame.append method is deprecated and will be removed from pandas in a future version. Use pandas.concat instead.\n",
      "  df_city_phase2 = df_city11.append([df_city12,df_city21,df_city22,df_city31,df_city32,df_city41,df_city42,df_city51,df_city52,\n"
     ]
    }
   ],
   "source": [
    "df_city_phase2 = df_city11.append([df_city12,df_city21,df_city22,df_city31,df_city32,df_city41,df_city42,df_city51,df_city52,\n",
    "                  df_city61,df_city62,df_city71, df_city72, df_city81, df_city82, df_city91, df_city92, df_city101, df_city102], ignore_index=True)"
   ]
  },
  {
   "cell_type": "code",
   "execution_count": 213,
   "metadata": {},
   "outputs": [
    {
     "data": {
      "text/html": [
       "<div>\n",
       "<style scoped>\n",
       "    .dataframe tbody tr th:only-of-type {\n",
       "        vertical-align: middle;\n",
       "    }\n",
       "\n",
       "    .dataframe tbody tr th {\n",
       "        vertical-align: top;\n",
       "    }\n",
       "\n",
       "    .dataframe thead th {\n",
       "        text-align: right;\n",
       "    }\n",
       "</style>\n",
       "<table border=\"1\" class=\"dataframe\">\n",
       "  <thead>\n",
       "    <tr style=\"text-align: right;\">\n",
       "      <th></th>\n",
       "      <th>date</th>\n",
       "      <th>content</th>\n",
       "      <th>user</th>\n",
       "      <th>geo_tag</th>\n",
       "    </tr>\n",
       "  </thead>\n",
       "  <tbody>\n",
       "    <tr>\n",
       "      <th>0</th>\n",
       "      <td>2017-01-08 19:33:10+00:00</td>\n",
       "      <td>Transaction fee on e-payments is bad concept p...</td>\n",
       "      <td>{'username': 'vijaysardana', 'id': 43716433, '...</td>\n",
       "      <td>New Delhi</td>\n",
       "    </tr>\n",
       "    <tr>\n",
       "      <th>1</th>\n",
       "      <td>2017-01-08 16:55:54+00:00</td>\n",
       "      <td>What did we achieve by #Demonetization? \\n150+...</td>\n",
       "      <td>{'username': 'LaraibNeyazi', 'id': 206594971, ...</td>\n",
       "      <td>New Delhi</td>\n",
       "    </tr>\n",
       "    <tr>\n",
       "      <th>2</th>\n",
       "      <td>2017-01-08 16:53:58+00:00</td>\n",
       "      <td>Another setback to the demonetization drive as...</td>\n",
       "      <td>{'username': 'imsyedsuhail', 'id': 83112060, '...</td>\n",
       "      <td>New Delhi</td>\n",
       "    </tr>\n",
       "    <tr>\n",
       "      <th>3</th>\n",
       "      <td>2017-01-07 18:01:33+00:00</td>\n",
       "      <td>@htTweets may be it would be a correct analysi...</td>\n",
       "      <td>{'username': 'vinodmishra64', 'id': 22483220, ...</td>\n",
       "      <td>New Delhi</td>\n",
       "    </tr>\n",
       "    <tr>\n",
       "      <th>4</th>\n",
       "      <td>2017-01-07 11:06:33+00:00</td>\n",
       "      <td>PM @narendramodi begins his speech at @BJP4Ind...</td>\n",
       "      <td>{'username': 'payalmehta100', 'id': 104473820,...</td>\n",
       "      <td>New Delhi</td>\n",
       "    </tr>\n",
       "    <tr>\n",
       "      <th>...</th>\n",
       "      <td>...</td>\n",
       "      <td>...</td>\n",
       "      <td>...</td>\n",
       "      <td>...</td>\n",
       "    </tr>\n",
       "    <tr>\n",
       "      <th>940</th>\n",
       "      <td>2016-12-13 06:26:15+00:00</td>\n",
       "      <td>Dear PM of India post office also involved in ...</td>\n",
       "      <td>{'username': 'rrchoudhary01', 'id': 588085424,...</td>\n",
       "      <td>Jaipur</td>\n",
       "    </tr>\n",
       "    <tr>\n",
       "      <th>941</th>\n",
       "      <td>2016-12-12 15:18:19+00:00</td>\n",
       "      <td>@legalhelp2u @rssurjewala oh really, every day...</td>\n",
       "      <td>{'username': 'kapil9994', 'id': 210057853, 'di...</td>\n",
       "      <td>Jaipur</td>\n",
       "    </tr>\n",
       "    <tr>\n",
       "      <th>942</th>\n",
       "      <td>2016-12-12 12:34:39+00:00</td>\n",
       "      <td>@sri9011 @subh851 What is Private in Banks whe...</td>\n",
       "      <td>{'username': 'AnilVegomega', 'id': 2776888944,...</td>\n",
       "      <td>Jaipur</td>\n",
       "    </tr>\n",
       "    <tr>\n",
       "      <th>943</th>\n",
       "      <td>2016-12-12 12:23:01+00:00</td>\n",
       "      <td>For a Cashless society &amp;amp; Curb Black Money,...</td>\n",
       "      <td>{'username': 'AnilVegomega', 'id': 2776888944,...</td>\n",
       "      <td>Jaipur</td>\n",
       "    </tr>\n",
       "    <tr>\n",
       "      <th>944</th>\n",
       "      <td>2016-12-10 04:28:30+00:00</td>\n",
       "      <td>@SecularHind @KishoreAjwani 2/n .PM's intentio...</td>\n",
       "      <td>{'username': 'DrRupani', 'id': 2160285660, 'di...</td>\n",
       "      <td>Jaipur</td>\n",
       "    </tr>\n",
       "  </tbody>\n",
       "</table>\n",
       "<p>945 rows × 4 columns</p>\n",
       "</div>"
      ],
      "text/plain": [
       "                         date  \\\n",
       "0   2017-01-08 19:33:10+00:00   \n",
       "1   2017-01-08 16:55:54+00:00   \n",
       "2   2017-01-08 16:53:58+00:00   \n",
       "3   2017-01-07 18:01:33+00:00   \n",
       "4   2017-01-07 11:06:33+00:00   \n",
       "..                        ...   \n",
       "940 2016-12-13 06:26:15+00:00   \n",
       "941 2016-12-12 15:18:19+00:00   \n",
       "942 2016-12-12 12:34:39+00:00   \n",
       "943 2016-12-12 12:23:01+00:00   \n",
       "944 2016-12-10 04:28:30+00:00   \n",
       "\n",
       "                                               content  \\\n",
       "0    Transaction fee on e-payments is bad concept p...   \n",
       "1    What did we achieve by #Demonetization? \\n150+...   \n",
       "2    Another setback to the demonetization drive as...   \n",
       "3    @htTweets may be it would be a correct analysi...   \n",
       "4    PM @narendramodi begins his speech at @BJP4Ind...   \n",
       "..                                                 ...   \n",
       "940  Dear PM of India post office also involved in ...   \n",
       "941  @legalhelp2u @rssurjewala oh really, every day...   \n",
       "942  @sri9011 @subh851 What is Private in Banks whe...   \n",
       "943  For a Cashless society &amp; Curb Black Money,...   \n",
       "944  @SecularHind @KishoreAjwani 2/n .PM's intentio...   \n",
       "\n",
       "                                                  user    geo_tag  \n",
       "0    {'username': 'vijaysardana', 'id': 43716433, '...  New Delhi  \n",
       "1    {'username': 'LaraibNeyazi', 'id': 206594971, ...  New Delhi  \n",
       "2    {'username': 'imsyedsuhail', 'id': 83112060, '...  New Delhi  \n",
       "3    {'username': 'vinodmishra64', 'id': 22483220, ...  New Delhi  \n",
       "4    {'username': 'payalmehta100', 'id': 104473820,...  New Delhi  \n",
       "..                                                 ...        ...  \n",
       "940  {'username': 'rrchoudhary01', 'id': 588085424,...     Jaipur  \n",
       "941  {'username': 'kapil9994', 'id': 210057853, 'di...     Jaipur  \n",
       "942  {'username': 'AnilVegomega', 'id': 2776888944,...     Jaipur  \n",
       "943  {'username': 'AnilVegomega', 'id': 2776888944,...     Jaipur  \n",
       "944  {'username': 'DrRupani', 'id': 2160285660, 'di...     Jaipur  \n",
       "\n",
       "[945 rows x 4 columns]"
      ]
     },
     "execution_count": 213,
     "metadata": {},
     "output_type": "execute_result"
    }
   ],
   "source": [
    "df_city_phase2"
   ]
  },
  {
   "cell_type": "code",
   "execution_count": 214,
   "metadata": {},
   "outputs": [],
   "source": [
    "df_city_phase2.to_csv (r'tweets_phase2.csv', index = False, header=True)"
   ]
  },
  {
   "cell_type": "code",
   "execution_count": null,
   "metadata": {},
   "outputs": [],
   "source": []
  },
  {
   "cell_type": "code",
   "execution_count": null,
   "metadata": {},
   "outputs": [],
   "source": []
  }
 ],
 "metadata": {
  "kernelspec": {
   "display_name": "Python 3",
   "language": "python",
   "name": "python3"
  },
  "language_info": {
   "codemirror_mode": {
    "name": "ipython",
    "version": 3
   },
   "file_extension": ".py",
   "mimetype": "text/x-python",
   "name": "python",
   "nbconvert_exporter": "python",
   "pygments_lexer": "ipython3",
   "version": "3.8.5"
  }
 },
 "nbformat": 4,
 "nbformat_minor": 5
}
